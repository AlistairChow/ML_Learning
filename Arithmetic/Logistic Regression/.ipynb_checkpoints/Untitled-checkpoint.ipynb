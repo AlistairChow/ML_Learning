{
 "cells": [
  {
   "cell_type": "markdown",
   "metadata": {},
   "source": [
    "# 逻辑回归（Logistic Regression）\n"
   ]
  },
  {
   "cell_type": "markdown",
   "metadata": {},
   "source": [
    "## 概述\n",
    "假设现在有一些数据点，用一条直线对这些点进行拟合（该线称为最佳拟合直线），这个拟合过程就称为回归。  \n",
    "利用逻辑回归进行分类的主要思想是：根据现有数据对分类边界线建立回归公式，以此进行分类。"
   ]
  },
  {
   "cell_type": "markdown",
   "metadata": {},
   "source": [
    "## 算法流程\n",
    "> 收集数据：采用任意方法收集数据\n",
    "> 准备数据：由于需要进行距离计算，因此要求数据类型为数值型。另外，结构化数据格式则最佳  \n",
    "> 分析数据：采用任意方法对数据进行分析  \n",
    "> 训练算法：大部分时间将用于训练，训练的目的是为了找到最佳的分类回归系数  \n",
    "> 测试算法：一旦训练步骤完成，分类将会很快  \n",
    "> 使用算法：首先，需要输入一些数据，并将其转换成对应的结构化数值；接着，基于训练好的回归系数就可以对这些数值进行简单的回归计算，判定它们属于哪个类别；在这之后，就可以在输出的类别上做一些其他分析工作"
   ]
  },
  {
   "cell_type": "markdown",
   "metadata": {},
   "source": [
    "## 基于逻辑回归和Sigmoid函数的分类\n",
    "逻辑回归\n",
    "> 优点：计算代价不高，易于理解和实现  \n",
    "> 缺点：容易欠拟合，分类精度可能不高  \n",
    "> 适用数据类型：数值型和标称型数据  \n",
    "\n",
    "我们想要的函数应该是，能接受所有的输入然后预测出类别。例如，对于而分类问题，该函数应该返回0或1。具有这种性质的函数称为**海维塞德阶跃函数(Heaviside step function)**，或直接称为**单位阶跃函数**。海维塞德阶跃函数的问题在于：该函数在跳跃点上从0瞬间跳跃到1，这个瞬间跳跃过程有时很难处理。\n",
    "Sigmoid函数是一个S型曲线，其函数形式为：\n",
    "$$\\sigma(z)=\\frac{1}{1+e^{-z}}$$\n",
    "当输入z等于0时，Sigmoid函数值为0.5。随着z的增大，对应的函数值趋近于1；随着z的减小，对应的函数值趋近于0。\n",
    "https://zh.wikipedia.org/wiki/S%E5%87%BD%E6%95%B0#/media/File:Sigmoid_function_01.png"
   ]
  },
  {
   "cell_type": "markdown",
   "metadata": {},
   "source": [
    "## 基于最优化方法的最佳回归系数确定"
   ]
  },
  {
   "cell_type": "markdown",
   "metadata": {},
   "source": [
    "### 训练算法：适用梯度上升找到最佳参数\n",
    "梯度上升法基于的思想是：要找到某函数的最大值，最好的方法是沿着该函数的梯度方向探寻。  \n",
    "梯度上升法的伪代码："
   ]
  },
  {
   "cell_type": "raw",
   "metadata": {},
   "source": [
    "每个回归系数初始化为1\n",
    "重复R次：\n",
    "    计算整个数据集的梯度\n",
    "    适用alpha x gradient 更新回归系数的向量\n",
    "返回回归系数"
   ]
  },
  {
   "cell_type": "code",
   "execution_count": 35,
   "metadata": {
    "collapsed": true
   },
   "outputs": [],
   "source": [
    "import numpy as np\n",
    "\n",
    "def loadDataSet():\n",
    "    '''\n",
    "    加载数据集\n",
    "    '''\n",
    "    dataMat = []\n",
    "    labelMat = []\n",
    "    fr = open('testSet.txt')\n",
    "    for line in fr.readlines():\n",
    "        lineArr = line.strip().split()\n",
    "        dataMat.append([1.0, float(lineArr[0]), float(lineArr[1])])\n",
    "        labelMat.append(int(lineArr[2]))\n",
    "    return dataMat, labelMat\n",
    "\n",
    "def sigmoid(inX):\n",
    "    '''\n",
    "    S函数\n",
    "    '''\n",
    "    return 1.0 / (1 + np.exp(-inX))\n",
    "\n",
    "def gradAscent(dataMatIn, classLabels):\n",
    "    '''\n",
    "    梯度上升算法\n",
    "    param dataMatIn: 特征值\n",
    "    param classLabels: 标签\n",
    "    '''\n",
    "    # 特征值矩阵\n",
    "    dataMatix = np.mat(dataMatIn)\n",
    "    \n",
    "    # 标签矩阵；行向量转置为列向量\n",
    "    labelMat = np.mat(classLabels).transpose()\n",
    "    # 获取特征值矩阵大小\n",
    "    m, n = np.shape(dataMatix)\n",
    "    # 移动步长\n",
    "    alpha = 0.001\n",
    "    # 迭代次数\n",
    "    maxCycles = 500\n",
    "    # 回归系数初始化为1\n",
    "    weights = np.ones((n, 1))\n",
    "    \n",
    "    for k in range(maxCycles):\n",
    "        h = sigmoid(dataMatix * weights)\n",
    "        error = (labelMat - h)\n",
    "        weights = weights + alpha * dataMatix.transpose() * error\n",
    "        \n",
    "    return weights"
   ]
  },
  {
   "cell_type": "code",
   "execution_count": 36,
   "metadata": {},
   "outputs": [
    {
     "data": {
      "text/plain": [
       "matrix([[ 4.12414349],\n",
       "        [ 0.48007329],\n",
       "        [-0.6168482 ]])"
      ]
     },
     "execution_count": 36,
     "metadata": {},
     "output_type": "execute_result"
    }
   ],
   "source": [
    "dataArr, labelMat = loadDataSet()\n",
    "weights = gradAscent(dataArr, labelMat)\n",
    "weights"
   ]
  },
  {
   "cell_type": "markdown",
   "metadata": {},
   "source": [
    "### 分析数据：画出决策边界"
   ]
  },
  {
   "cell_type": "code",
   "execution_count": 37,
   "metadata": {
    "collapsed": true
   },
   "outputs": [],
   "source": [
    "def plotBestFit(weights):\n",
    "    '''\n",
    "    画出数据集和逻辑回归最佳拟合直线\n",
    "    '''\n",
    "    import matplotlib.pyplot as plt\n",
    "    dataMat, labelMat = loadDataSet()\n",
    "    dataArr = np.array(dataMat)\n",
    "    n = np.shape(dataMat)[0]\n",
    "    xcord1 = []\n",
    "    ycord1 = []\n",
    "    xcord2 = []\n",
    "    ycord2 = []\n",
    "    \n",
    "    for i in range(n):\n",
    "        if int(labelMat[i]) == 1:\n",
    "            xcord1.append(dataArr[i, 1])\n",
    "            ycord1.append(dataArr[i, 2])\n",
    "        else:\n",
    "            xcord2.append(dataArr[i, 1])\n",
    "            ycord2.append(dataArr[i, 2])\n",
    "            \n",
    "    fig = plt.figure()\n",
    "    ax = fig.add_subplot(111)\n",
    "    ax.scatter(xcord1, ycord1, s=30, c='red', marker='s')\n",
    "    ax.scatter(xcord2, ycord2, s=30, c='green')\n",
    "    x = np.arange(-3.0, 3.0, 0.1)\n",
    "    y = (-weights[0]-weights[1]*x) / weights[2]\n",
    "    ax.plot(x, y)\n",
    "    plt.xlabel('X1')\n",
    "    plt.ylabel('X2')\n",
    "    plt.show()"
   ]
  },
  {
   "cell_type": "code",
   "execution_count": 38,
   "metadata": {},
   "outputs": [
    {
     "data": {
      "image/png": "[encoded data removed]",
      "text/plain": [
       "<matplotlib.figure.Figure at 0x11ad3240>"
      ]
     },
     "metadata": {},
     "output_type": "display_data"
    }
   ],
   "source": [
    "plotBestFit(weights.getA())"
   ]
  },
  {
   "cell_type": "markdown",
   "metadata": {},
   "source": [
    "### 训练算法：随机梯度上升\n",
    "梯度上升算法每次更新归回系数时都需要遍历整个数据集，数据量较小时尚可，但如果有数十亿样本和上千万特征，那么该方法的计算复杂度就太高了。一种改进方法是以此仅用一个样本点来更新回归系数，该方法称为**随机梯度上升算法**。由于可以在新样本到来时对分类器进行增量式更新，因而随机梯度上升算法是一个在线学习算法。与“在线学习”相对应，一次处理所有数据被称作是“批处理”。  \n",
    "随机梯度算法伪代码："
   ]
  },
  {
   "cell_type": "raw",
   "metadata": {},
   "source": [
    "所有回归系数初始化为1\n",
    "对数据集中每个样本\n",
    "    计算该样本的梯度\n",
    "    适用 alpha x gradient 更新回归系数值\n",
    "返回回归系数值"
   ]
  },
  {
   "cell_type": "code",
   "execution_count": 41,
   "metadata": {
    "collapsed": true
   },
   "outputs": [],
   "source": [
    "def stocGradAscent0(dataMatrix, classLabels):\n",
    "    '''\n",
    "    随机梯度上升算法\n",
    "    '''\n",
    "    m, n = np.shape(dataMatrix)\n",
    "    alpha = 0.01\n",
    "    weights = np.ones(n)\n",
    "    for i in range(m):\n",
    "        h = sigmoid(sum(dataMatrix[i]*weights))\n",
    "        error = classLabels[i] - h\n",
    "        weights = weights + alpha * error * dataMatrix[i]\n",
    "        \n",
    "    return weights"
   ]
  },
  {
   "cell_type": "markdown",
   "metadata": {},
   "source": [
    "测试随机梯度上升算法  \n",
    "从结果上来看，拟合出来的直线效果还不错，但不像前面那么完美。这里的分类器错分了三分之一的样本。  \n",
    "但是前面的结果时迭代了500次才得到的。"
   ]
  },
  {
   "cell_type": "code",
   "execution_count": 42,
   "metadata": {},
   "outputs": [
    {
     "data": {
      "image/png": "[encoded data removed]",
      "text/plain": [
       "<matplotlib.figure.Figure at 0x11b84978>"
      ]
     },
     "metadata": {},
     "output_type": "display_data"
    }
   ],
   "source": [
    "dataArr, labelMat = loadDataSet()\n",
    "weights = stocGradAscent0(np.array(dataArr), labelMat)\n",
    "plotBestFit(weights)"
   ]
  },
  {
   "cell_type": "markdown",
   "metadata": {},
   "source": [
    "对算法进行改进，增加迭代次数"
   ]
  },
  {
   "cell_type": "code",
   "execution_count": 49,
   "metadata": {
    "collapsed": true
   },
   "outputs": [],
   "source": [
    "import random\n",
    "\n",
    "def stocGradAscent1(dataMatrix, classLabels, numIter=150):\n",
    "    m, n = np.shape(dataMatrix)\n",
    "    weights = np.ones(n)\n",
    "    for j in range(numIter):\n",
    "        dataIndex = range(m)\n",
    "        for i in range(m):\n",
    "            # 每次迭代时更新 alpha 值\n",
    "            alpha = 4 / (1.0 + j + i) + 0.01\n",
    "            # 随机选取更新\n",
    "            randIndex = int(random.uniform(0, len(dataIndex)))\n",
    "            h = sigmoid(sum(dataMatrix[randIndex] * weights))\n",
    "            error = classLabels[randIndex] - h\n",
    "            weights = weights + alpha * error * dataMatrix[randIndex]\n",
    "            del(dataIndex[randIndex])\n",
    "    \n",
    "    return weights"
   ]
  },
  {
   "cell_type": "markdown",
   "metadata": {},
   "source": [
    "测试算法  \n",
    "发现经过默认150次迭代后，拟合直线与前面已经差不多了。"
   ]
  },
  {
   "cell_type": "code",
   "execution_count": 57,
   "metadata": {},
   "outputs": [
    {
     "data": {
      "image/png": "[encoded data removed]",
      "text/plain": [
       "<matplotlib.figure.Figure at 0x11996358>"
      ]
     },
     "metadata": {},
     "output_type": "display_data"
    }
   ],
   "source": [
    "dataArr, labelMat = loadDataSet()\n",
    "weights = stocGradAscent1(np.array(dataArr), labelMat)\n",
    "plotBestFit(weights)"
   ]
  },
  {
   "cell_type": "markdown",
   "metadata": {},
   "source": [
    "## 示例：从疝气病症预测病马的死亡率\n",
    "使用逻辑回归来预测患有疝气病的马的存活问题。\n",
    "\n",
    "> **收集数据**：给定数据文件。  \n",
    "> **准备数据**：用python解析文本文件并填充缺失值。  \n",
    "> **分析数据**：可视化并观察数据。  \n",
    "> **训练算法**：使用优化算法，找到最佳的系数。  \n",
    "> **测试算法**：为了量化回归的效果，需要观察错误率。根据错误率决定是否回退到训练阶段，通过改变迭代的次数和步长等参数来得到更好的回归系数。  \n",
    "> **使用算法**：实现一个简单的命令行程序来收集马的症状"
   ]
  },
  {
   "cell_type": "markdown",
   "metadata": {},
   "source": [
    "### 准备数据：处理缺失值\n",
    "处理缺失值可选的做法：\n",
    "> "
   ]
  }
 ],
 "metadata": {
  "kernelspec": {
   "display_name": "Python 2",
   "language": "python",
   "name": "python2"
  },
  "language_info": {
   "codemirror_mode": {
    "name": "ipython",
    "version": 2
   },
   "file_extension": ".py",
   "mimetype": "text/x-python",
   "name": "python",
   "nbconvert_exporter": "python",
   "pygments_lexer": "ipython2",
   "version": "2.7.13"
  }
 },
 "nbformat": 4,
 "nbformat_minor": 2
}
