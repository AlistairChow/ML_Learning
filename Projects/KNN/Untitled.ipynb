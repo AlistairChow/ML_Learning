{
 "cells": [
  {
   "cell_type": "markdown",
   "metadata": {},
   "source": [
    "# K邻近算法（KNN）"
   ]
  },
  {
   "cell_type": "markdown",
   "metadata": {},
   "source": [
    "构造数据集"
   ]
  },
  {
   "cell_type": "code",
   "execution_count": 19,
   "metadata": {
    "collapsed": true
   },
   "outputs": [],
   "source": [
    "import numpy as np\n",
    "import operator as op\n",
    "\n",
    "group = np.array([[1., 1.1],[1.,1.],[0, 0],[0, 0.1]])\n",
    "labels = ['A', 'A', 'B', 'B']"
   ]
  },
  {
   "cell_type": "markdown",
   "metadata": {},
   "source": [
    "K邻近算法：  \n",
    "对未知类别属性的数据集众的每个点依次执行以下操作:  \n",
    "1.计算已知类别数据集中的点与当前点之间的距离;   \n",
    "2.按照距离递增次序排序  \n",
    "3.选取与当前点距离最小的k个点  \n",
    "4.确定前k个点所在类别的出现频率  \n",
    "5.返回前k个点出现频率最高的类别作为当前点的预测分类"
   ]
  },
  {
   "cell_type": "code",
   "execution_count": 51,
   "metadata": {
    "collapsed": true
   },
   "outputs": [],
   "source": [
    "def classify0(inX, dataSet, labels, k):\n",
    "    # 计算已知类别数据集中的点与当前点之间的距离\n",
    "    dataSetSize = dataSet.shape[0]\n",
    "    diffMat = np.tile(inX, (dataSetSize, 1)) - dataSet\n",
    "    sqDiffMat = diffMat ** 2\n",
    "    print sqDiffMat\n",
    "    sqDistances = sqDiffMat.sum(axis=1)\n",
    "    print sqDistances\n",
    "    distances = sqDistances ** 0.5\n",
    "    \n",
    "    # 按照距离递增次序排序\n",
    "    sortedDistIndicies = distances.argsort()\n",
    "    print sortedDistIndicies\n",
    "    classCount = {}\n",
    "    # 选取与当前点距离最小的k个点\n",
    "    for i in range(k):\n",
    "        voteIlabel = labels[sortedDistIndicies[i]]\n",
    "        # 确定前k个点所在类别的出现频率\n",
    "        classCount[voteIlabel] = classCount.get(voteIlabel, 0) + 1\n",
    "    # 回前k个点出现频率最高的类别作为当前点的预测分类\n",
    "    sortedClassCount = sorted(classCount.iteritems(), key=op.itemgetter(1), reverse=True)\n",
    "    return sortedClassCount[0][0]\n",
    "    "
   ]
  },
  {
   "cell_type": "code",
   "execution_count": 52,
   "metadata": {},
   "outputs": [
    {
     "name": "stdout",
     "output_type": "stream",
     "text": [
      "[[ 1.    1.21]\n",
      " [ 1.    1.  ]\n",
      " [ 0.    0.  ]\n",
      " [ 0.    0.01]]\n",
      "[ 2.21  2.    0.    0.01]\n",
      "[2 3 1 0]\n"
     ]
    },
    {
     "data": {
      "text/plain": [
       "'A'"
      ]
     },
     "execution_count": 52,
     "metadata": {},
     "output_type": "execute_result"
    }
   ],
   "source": [
    "classify0([0, 0], group, labels, 4)"
   ]
  },
  {
   "cell_type": "code",
   "execution_count": 50,
   "metadata": {},
   "outputs": [
    {
     "data": {
      "text/plain": [
       "array([0, 2, 1], dtype=int64)"
      ]
     },
     "execution_count": 50,
     "metadata": {},
     "output_type": "execute_result"
    }
   ],
   "source": [
    "np.array([1, 3, 2]).argsort()"
   ]
  },
  {
   "cell_type": "code",
   "execution_count": null,
   "metadata": {
    "collapsed": true
   },
   "outputs": [],
   "source": []
  }
 ],
 "metadata": {
  "kernelspec": {
   "display_name": "Python 2",
   "language": "python",
   "name": "python2"
  },
  "language_info": {
   "codemirror_mode": {
    "name": "ipython",
    "version": 2
   },
   "file_extension": ".py",
   "mimetype": "text/x-python",
   "name": "python",
   "nbconvert_exporter": "python",
   "pygments_lexer": "ipython2",
   "version": "2.7.13"
  }
 },
 "nbformat": 4,
 "nbformat_minor": 2
}
